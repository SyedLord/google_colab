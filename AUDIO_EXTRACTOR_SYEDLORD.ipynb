{
  "nbformat": 4,
  "nbformat_minor": 0,
  "metadata": {
    "colab": {
      "provenance": []
    },
    "kernelspec": {
      "name": "python3",
      "display_name": "Python 3"
    },
    "language_info": {
      "name": "python"
    }
  },
  "cells": [
    {
      "cell_type": "markdown",
      "source": [
        "**<h1><center>Created by 👑 SYEDLORD 👑</center></h1>**"
      ],
      "metadata": {
        "id": "2RGXo0IXy1No"
      }
    },
    {
      "cell_type": "markdown",
      "source": [
        "**<h3>🌟 AUDIO EXTRACTOR & AUDIO AND VIDEO MERGER 🌟</h3>**"
      ],
      "metadata": {
        "id": "o0akkm-symMO"
      }
    },
    {
      "cell_type": "markdown",
      "source": [
        "**<h4>⬇️ INSTALL THE DEPENDENCIES ⬇️</h4>**"
      ],
      "metadata": {
        "id": "ZL_clzVfyHlx"
      }
    },
    {
      "cell_type": "code",
      "source": [
        "!apt install ffmpeg"
      ],
      "metadata": {
        "id": "ltyCG5izy8oP"
      },
      "execution_count": null,
      "outputs": []
    },
    {
      "cell_type": "markdown",
      "source": [
        "**<h4>⬇️ Audio Extractor ⬇️</h4>**"
      ],
      "metadata": {
        "id": "bBlXd_X3yXQw"
      }
    },
    {
      "cell_type": "code",
      "source": [
        "!ffmpeg -i 'path to video' -map 0:a:0 -c:a copy 'path to export folder'"
      ],
      "metadata": {
        "id": "tuHmiiKyy-5r"
      },
      "execution_count": null,
      "outputs": []
    },
    {
      "cell_type": "markdown",
      "source": [
        "**<h4>⬇️ AUDIO & VIDEO MERGER ⬇️</h4>**"
      ],
      "metadata": {
        "id": "18Mdv2K1yhNP"
      }
    },
    {
      "cell_type": "code",
      "source": [
        "!ffmpeg -i '/content/drive/Shareddrives/Shared Drive 2/avatar1.mkv' -i '/content/drive/Shareddrives/Shared Drive 2/avatar.m4a' -map 0:v -map 0:a -map 1:a -map 0:s -c copy '/content/drive/Shareddrives/Shared Drive 2/avatar2.mkv'"
      ],
      "metadata": {
        "id": "xq0pcnUIPKwd"
      },
      "execution_count": null,
      "outputs": []
    }
  ]
}