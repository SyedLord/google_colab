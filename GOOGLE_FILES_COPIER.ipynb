{
  "nbformat": 4,
  "nbformat_minor": 0,
  "metadata": {
    "colab": {
      "provenance": []
    },
    "kernelspec": {
      "name": "python3",
      "display_name": "Python 3"
    },
    "language_info": {
      "name": "python"
    }
  },
  "cells": [
    {
      "cell_type": "markdown",
      "source": [
        "**<h1><center>GOOGLE FILES COPIER - 👑 SYEDLORD 👑</center></h1>**"
      ],
      "metadata": {
        "id": "tW5E4IHSrTQd"
      }
    },
    {
      "cell_type": "markdown",
      "source": [
        "**<h4>⬇️ INSTALL THE REQUIRED DEPENDENCIES ⬇️</h4>**"
      ],
      "metadata": {
        "id": "ajHaAuzDl9DX"
      }
    },
    {
      "cell_type": "code",
      "source": [
        "!pip install gdown"
      ],
      "metadata": {
        "id": "zyQuM5VO7Gs8"
      },
      "execution_count": null,
      "outputs": []
    },
    {
      "cell_type": "markdown",
      "source": [
        "**<h4>⬇️ INSERT THE ID OF GOOGLE FILE LINKS ⬇️</h4>**"
      ],
      "metadata": {
        "id": "eognC_mlq680"
      }
    },
    {
      "cell_type": "code",
      "source": [
        "file_id = [\n",
        "    '1CymXLQaiW0NUPRzU5zC_UN-mVNX74CQ0'\n",
        "]"
      ],
      "metadata": {
        "id": "BG3j7iV24XDE"
      },
      "execution_count": null,
      "outputs": []
    },
    {
      "cell_type": "markdown",
      "source": [
        "**<h4>⬇️ RUN THE CODE TO START THE PROCESS ⬇️</h4>**"
      ],
      "metadata": {
        "id": "_aBfzTsdrOqB"
      }
    },
    {
      "cell_type": "code",
      "source": [
        "import gdown\n",
        "\n",
        "file_idNum = 0\n",
        "for i in range(len(file_id)):\n",
        "    url = 'https://drive.google.com/uc?id=' + file_id[file_idNum]\n",
        "    output = '/content/onedrive/Google Copied Files/'\n",
        "    file_idNum += 1\n",
        "    gdown.download(url, output, quiet=False)"
      ],
      "metadata": {
        "id": "TBYXC-0t1zrz"
      },
      "execution_count": null,
      "outputs": []
    }
  ]
}