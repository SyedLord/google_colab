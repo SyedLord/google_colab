{
  "nbformat": 4,
  "nbformat_minor": 0,
  "metadata": {
    "colab": {
      "provenance": []
    },
    "kernelspec": {
      "name": "python3",
      "display_name": "Python 3"
    },
    "language_info": {
      "name": "python"
    }
  },
  "cells": [
    {
      "cell_type": "markdown",
      "source": [
        "**<h1><center>Created by 👑 SYEDLORD 👑</center></h1>**"
      ],
      "metadata": {
        "id": "2RGXo0IXy1No"
      }
    },
    {
      "cell_type": "code",
      "metadata": {
        "id": "tPuLCnbGFmxo",
        "cellView": "form",
        "outputId": "9c6b6296-b5ec-4d47-bf67-71ee014d4f3b",
        "colab": {
          "base_uri": "https://localhost:8080/"
        }
      },
      "source": [
        "#@markdown <br><center><img src='https://upload.wikimedia.org/wikipedia/commons/thumb/d/da/Google_Drive_logo.png/600px-Google_Drive_logo.png' height=\"50\" alt=\"Gdrive-logo\"/></center>\n",
        "#@markdown <center><h3>Mount Gdrive to /content/drive</h3></center><br>\n",
        "MODE = \"MOUNT\" #@param [\"MOUNT\", \"UNMOUNT\"]\n",
        "#Mount your Gdrive! \n",
        "from google.colab import drive\n",
        "drive.mount._DEBUG = False\n",
        "if MODE == \"MOUNT\":\n",
        "  drive.mount('/content/drive', force_remount=True)\n",
        "elif MODE == \"UNMOUNT\":\n",
        "  try:\n",
        "    drive.flush_and_unmount()\n",
        "  except ValueError:\n",
        "    pass\n",
        "  get_ipython().system_raw(\"rm -rf /root/.config/Google/DriveFS\")"
      ],
      "execution_count": null,
      "outputs": [
        {
          "output_type": "stream",
          "name": "stdout",
          "text": [
            "Mounted at /content/drive\n"
          ]
        }
      ]
    },
    {
      "cell_type": "markdown",
      "source": [
        "### **<h1><center>🌟 AUDIO EXTRACTOR & AUDIO AND VIDEO MERGER v2 🌟**"
      ],
      "metadata": {
        "id": "o0akkm-symMO"
      }
    },
    {
      "cell_type": "code",
      "source": [
        "#@markdown **<h4><center>✅ INSTALL THE DEPENDENCIES ✅</h4>**\n",
        "#@markdown **<center>THIS CODE SNIPPET WILL INSTALL THE REQUIRED DEPENDENCIES**\n",
        "!apt install ffmpeg"
      ],
      "metadata": {
        "id": "ltyCG5izy8oP",
        "cellView": "form"
      },
      "execution_count": null,
      "outputs": []
    },
    {
      "cell_type": "markdown",
      "source": [
        "### **<h2>✅ Audio Extractor ✅**"
      ],
      "metadata": {
        "id": "bBlXd_X3yXQw"
      }
    },
    {
      "cell_type": "code",
      "source": [
        "#@markdown **<center>⬇️ PATH TO VIDEO ⬇️**\n",
        "path_to_video = '' #@param {type: \"string\"}\n",
        "#@markdown **<center>⬇️ WHICH AUDIO TRACK ⬇️**\n",
        "audio_track = '1' #@param [\"1\", \"2\", \"3\", \"4\", \"5\"]\n",
        "\n",
        "#@markdown **<center>⬇️ SET THE AUDIO NAME ⬇️**\n",
        "audio_name_set = '' #@param {type: \"string\"}\n",
        "\n",
        "#@markdown **<center>⬇️ AUDIO TRACK FORMAT ⬇️**\n",
        "#audio_extension = '.eac3' #@param [\".eac3\", \".m4a\", \".thd\", \".mp3\", \".ac3\"]\n",
        "audio_extension = '' #@param {type: \"string\"}\n",
        "\n",
        "audio_name_set += audio_extension\n",
        "\n",
        "#THIS LINE OF CODE US JUST CONVERTING THE VALUE OF audio_track INTO AN INTEGER.\n",
        "audio_track_num = (int(audio_track) - 1)\n",
        "\n",
        "#@markdown **<center>⬇️ EXPORT PATH ⬇️**\n",
        "export_path = '' #@param {type: \"string\"}\n",
        "export_path += '/' + audio_name_set\n",
        "\n",
        "!ffmpeg -i \"{path_to_video}\" -map 0:a:{audio_track_num} -c:a copy \"{export_path}\""
      ],
      "metadata": {
        "id": "tuHmiiKyy-5r",
        "cellView": "form"
      },
      "execution_count": null,
      "outputs": []
    },
    {
      "cell_type": "markdown",
      "source": [
        "### **<h2>✅ Audio Remover ✅**"
      ],
      "metadata": {
        "id": "D4jAOZ6ubRWY"
      }
    },
    {
      "cell_type": "code",
      "source": [
        "import os\n",
        "#@markdown **<center>⬇️ PATH TO VIDEO ⬇️**\n",
        "path_to_video = '' #@param {type: \"string\"}\n",
        "\n",
        "# Extract movie name from path\n",
        "movie_name = os.path.basename(path_to_video)\n",
        "\n",
        "#@markdown **<center>⬇️ WHICH AUDIO TRACK YOU WANT TO DELETE ⬇️**\n",
        "audio_track = '1' #@param [\"1\", \"2\", \"3\", \"4\", \"5\"]\n",
        "\n",
        "#THIS LINE OF CODE US JUST CONVERTING THE VALUE OF audio_track INTO AN INTEGER.\n",
        "audio_track_num = (int(audio_track) - 1)\n",
        "\n",
        "#@markdown **<center>⬇️ EXPORT PATH ⬇️**\n",
        "export_path = '' #@param {type: \"string\"}\n",
        "export_path += '/'\n",
        "\n",
        "# Export path with movie name\n",
        "export_path2 = os.path.join(export_path, movie_name)\n",
        "\n",
        "!ffmpeg -i \"{path_to_video}\" -map 0 -map -0:a:1 -c copy \"{export_path2}\""
      ],
      "metadata": {
        "cellView": "form",
        "id": "2f721guYbK9X"
      },
      "execution_count": null,
      "outputs": []
    },
    {
      "cell_type": "markdown",
      "source": [
        "### **<h2>✅ AUDIO & VIDEO MERGER ✅**"
      ],
      "metadata": {
        "id": "18Mdv2K1yhNP"
      }
    },
    {
      "cell_type": "code",
      "source": [
        "import os\n",
        "\n",
        "#@markdown **<center>⬇️ VIDEO DIRECTORY ⬇️**\n",
        "video_path = '' #@param {type: \"string\"}\n",
        "\n",
        "# Extract movie name from path\n",
        "movie_name = os.path.basename(path_to_video)\n",
        "\n",
        "#@markdown **<center>⬇️ AUDIO DIRECTORY ⬇️**\n",
        "audio_path = '' #@param {type: \"string\"}\n",
        "#@markdown **<center>⬇️ EXPORT DIRECTORY ⬇️**\n",
        "export_path = '' #@param {type: \"string\"}\n",
        "export_path += '/'\n",
        "\n",
        "# Export path with movie name\n",
        "export_path2 = os.path.join(export_path, movie_name)\n",
        "\n",
        "!ffmpeg -i \"{video_path}\" -i \"{audio_path}\" -map 0:v -map 0:a -map 0:s -map 1:a -c:v copy -c:a copy -c:s copy \"{export_path2}\""
      ],
      "metadata": {
        "id": "xq0pcnUIPKwd",
        "cellView": "form"
      },
      "execution_count": null,
      "outputs": []
    }
  ]
}