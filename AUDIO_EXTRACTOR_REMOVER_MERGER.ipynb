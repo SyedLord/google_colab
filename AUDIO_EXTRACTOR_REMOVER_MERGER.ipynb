{
  "nbformat": 4,
  "nbformat_minor": 0,
  "metadata": {
    "colab": {
      "provenance": []
    },
    "kernelspec": {
      "name": "python3",
      "display_name": "Python 3"
    },
    "language_info": {
      "name": "python"
    }
  },
  "cells": [
    {
      "cell_type": "markdown",
      "source": [
        "**<h1><center>Created by 👑 SYEDLORD 👑</center></h1>**"
      ],
      "metadata": {
        "id": "2RGXo0IXy1No"
      }
    },
    {
      "cell_type": "markdown",
      "source": [
        "### **<h1><center>🌟 AUDIO EXTRACTOR & AUDIO AND VIDEO MERGER v2 🌟**"
      ],
      "metadata": {
        "id": "o0akkm-symMO"
      }
    },
    {
      "cell_type": "code",
      "source": [
        "#@markdown **<h4><center>✅ INSTALL THE DEPENDENCIES ✅</h4>**\n",
        "#@markdown **<center>THIS CODE SNIPPET WILL INSTALL THE REQUIRED DEPENDENCIES**\n",
        "!apt install ffmpeg"
      ],
      "metadata": {
        "id": "ltyCG5izy8oP",
        "cellView": "form"
      },
      "execution_count": null,
      "outputs": []
    },
    {
      "cell_type": "markdown",
      "source": [
        "### **<h2>✅ Audio Extractor ✅**"
      ],
      "metadata": {
        "id": "bBlXd_X3yXQw"
      }
    },
    {
      "cell_type": "code",
      "source": [
        "#@markdown **<center>⬇️ PATH TO VIDEO ⬇️**\n",
        "path_to_video = '' #@param {type: \"string\"}\n",
        "#@markdown **<center>⬇️ WHICH AUDIO TRACK ⬇️**\n",
        "audio_track = '1' #@param [\"1\", \"2\", \"3\", \"4\", \"5\"]\n",
        "\n",
        "#THIS LINE OF CODE US JUST CONVERTING THE VALUE OF audio_track INTO AN INTEGER.\n",
        "audio_track_num = (int(audio_track) - 1)\n",
        "\n",
        "#@markdown **<center>⬇️ EXPORT PATH ⬇️**\n",
        "export_path = '' #@param {type: \"string\"}\n",
        "export_path += '/'\n",
        "\n",
        "!ffmpeg -i path_to_video -map 0:a:audio_track_num -c:a copy export_path"
      ],
      "metadata": {
        "id": "tuHmiiKyy-5r",
        "cellView": "form"
      },
      "execution_count": null,
      "outputs": []
    },
    {
      "cell_type": "markdown",
      "source": [
        "### **<h2>✅ Audio Remover ✅**"
      ],
      "metadata": {
        "id": "D4jAOZ6ubRWY"
      }
    },
    {
      "cell_type": "code",
      "source": [
        "#@markdown **<center>⬇️ PATH TO VIDEO ⬇️**\n",
        "path_to_video = '' #@param {type: \"string\"}\n",
        "\n",
        "#@markdown **<center>⬇️ WHICH AUDIO TRACK YOU WANT TO DELETE ⬇️**\n",
        "audio_track = '1' #@param [\"1\", \"2\", \"3\", \"4\", \"5\"]\n",
        "\n",
        "#THIS LINE OF CODE US JUST CONVERTING THE VALUE OF audio_track INTO AN INTEGER.\n",
        "audio_track_num = (int(audio_track) - 1)\n",
        "\n",
        "#@markdown **<center>⬇️ EXPORT PATH ⬇️**\n",
        "export_path = '' #@param {type: \"string\"}\n",
        "export_path += '/'\n",
        "\n",
        "!ffmpeg -i path_to_video -map 0:v -map -0:a:audio_track_num -c:v copy -c:a copy -c:s copy export_path"
      ],
      "metadata": {
        "cellView": "form",
        "id": "2f721guYbK9X"
      },
      "execution_count": null,
      "outputs": []
    },
    {
      "cell_type": "markdown",
      "source": [
        "### **<h2>✅ AUDIO & VIDEO MERGER ✅**"
      ],
      "metadata": {
        "id": "18Mdv2K1yhNP"
      }
    },
    {
      "cell_type": "code",
      "source": [
        "#@markdown **<center>⬇️ INPUT THE VIDEO DIRECTORY ⬇️**\n",
        "video_path = '' #@param {type: \"string\"}\n",
        "#@markdown **<center>⬇️ INPUT THE AUDIO DIRECTORY ⬇️**\n",
        "audio_path = '' #@param {type: \"string\"}\n",
        "#@markdown **<center>⬇️ INPUT THE EXPORT DIRECTORY ⬇️**\n",
        "export_path = '' #@param {type: \"string\"}\n",
        "export_path += '/'\n",
        "\n",
        "!ffmpeg -i video_path -i audio_path -map 0:v -map 0:a -map 1:a -map 0:s -c copy export_path"
      ],
      "metadata": {
        "id": "xq0pcnUIPKwd",
        "cellView": "form"
      },
      "execution_count": null,
      "outputs": []
    }
  ]
}