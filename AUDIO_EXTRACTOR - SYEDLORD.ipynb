{
  "nbformat": 4,
  "nbformat_minor": 0,
  "metadata": {
    "colab": {
      "provenance": [],
      "mount_file_id": "1BIXh4oVjwAtVDs47DMVS4M4z_PQvgf3G",
      "authorship_tag": "ABX9TyPvAm7aXoo4+Bz6Q4xzPjCY",
      "include_colab_link": true
    },
    "kernelspec": {
      "name": "python3",
      "display_name": "Python 3"
    },
    "language_info": {
      "name": "python"
    }
  },
  "cells": [
    {
      "cell_type": "markdown",
      "metadata": {
        "id": "view-in-github",
        "colab_type": "text"
      },
      "source": [
        "<a href=\"https://colab.research.google.com/github/SyedLord/google_colab/blob/main/AUDIO_EXTRACTOR%20-%20SYEDLORD.ipynb\" target=\"_parent\"><img src=\"https://colab.research.google.com/assets/colab-badge.svg\" alt=\"Open In Colab\"/></a>"
      ]
    },
    {
      "cell_type": "code",
      "execution_count": 1,
      "metadata": {
        "colab": {
          "base_uri": "https://localhost:8080/"
        },
        "id": "M8-9pNRMrKHD",
        "outputId": "0fbd38f5-f45b-45b3-d98e-7db54d474f41"
      },
      "outputs": [
        {
          "output_type": "stream",
          "name": "stdout",
          "text": [
            "Mounted at /content/drive\n"
          ]
        }
      ],
      "source": [
        "from google.colab import drive\n",
        "drive.mount('/content/drive')"
      ]
    },
    {
      "cell_type": "code",
      "source": [
        "!apt install ffmpeg"
      ],
      "metadata": {
        "id": "ltyCG5izy8oP"
      },
      "execution_count": null,
      "outputs": []
    },
    {
      "cell_type": "code",
      "source": [
        "#Audio Extractor\n",
        "!ffmpeg -i 'path to video' -map 0:a:0 -c:a copy 'path to export folder'"
      ],
      "metadata": {
        "id": "tuHmiiKyy-5r"
      },
      "execution_count": null,
      "outputs": []
    },
    {
      "cell_type": "code",
      "source": [
        "#Video and Audio Merger\n",
        "#!ffmpeg -i '/content/drive/Shareddrives/Shared Drive 2/avatar1.mkv' -i '/content/drive/Shareddrives/Shared Drive 2/avatar.m4a' -map 0:v -map 0:a -map 1:a -map 0:s:1 -c copy '/content/drive/Shareddrives/Shared Drive 2/avatar2.mkv'"
      ],
      "metadata": {
        "id": "WMVKmC_OGTAZ"
      },
      "execution_count": null,
      "outputs": []
    },
    {
      "cell_type": "code",
      "source": [
        "!ffmpeg -i '/content/drive/Shareddrives/Shared Drive 2/avatar1.mkv' -i '/content/drive/Shareddrives/Shared Drive 2/avatar.m4a' -map 0:v -map 0:a -map 1:a -map 0:s -c copy '/content/drive/Shareddrives/Shared Drive 2/avatar2.mkv'"
      ],
      "metadata": {
        "id": "xq0pcnUIPKwd"
      },
      "execution_count": null,
      "outputs": []
    }
  ]
}