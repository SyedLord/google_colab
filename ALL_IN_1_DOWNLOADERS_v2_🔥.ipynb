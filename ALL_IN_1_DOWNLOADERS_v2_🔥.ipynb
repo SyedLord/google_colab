{
  "nbformat": 4,
  "nbformat_minor": 0,
  "metadata": {
    "colab": {
      "provenance": []
    },
    "kernelspec": {
      "name": "python3",
      "display_name": "Python 3"
    },
    "language_info": {
      "name": "python"
    }
  },
  "cells": [
    {
      "cell_type": "markdown",
      "source": [
        "created by:**<h1>👑 SyedLord 👑</h1>**"
      ],
      "metadata": {
        "id": "3T-no753sWas"
      }
    },
    {
      "cell_type": "markdown",
      "source": [
        "# **<center>⏬ DOWNLOADERS ⏬**"
      ],
      "metadata": {
        "id": "9n-YnybMriw8"
      }
    },
    {
      "cell_type": "markdown",
      "source": [
        "### **curl Downloader ⏬**"
      ],
      "metadata": {
        "id": "e1WcNvrKqOFm"
      }
    },
    {
      "cell_type": "code",
      "source": [
        "from os import chdir\n",
        "chdir(\"DOWNLOAD DIRECTORY HERE\")"
      ],
      "metadata": {
        "id": "9U09TownKP49"
      },
      "execution_count": null,
      "outputs": []
    },
    {
      "cell_type": "code",
      "source": [
        "!\"DOWNLOAD LINK\""
      ],
      "metadata": {
        "id": "Z1lx_51YKRUv"
      },
      "execution_count": null,
      "outputs": []
    },
    {
      "cell_type": "markdown",
      "source": [
        "### **wget Downloader ⏬**"
      ],
      "metadata": {
        "id": "5YKUelHzquxp"
      }
    },
    {
      "cell_type": "code",
      "execution_count": null,
      "metadata": {
        "id": "FZHvHFydGhN-",
        "cellView": "form"
      },
      "outputs": [],
      "source": [
        "#@markdown **<h4><center>✅ RUN THIS CODE TO INSTALL THE DEPENDENCIES ✅**\n",
        "!pip install PyDrive"
      ]
    },
    {
      "cell_type": "code",
      "source": [
        "#@markdown **<center>⬇️ PASTE DOWNLOAD LINK HERE ⬇️**\n",
        "download_link = '' #@param {type: \"string\"}\n",
        "\n",
        "#@markdown **<center>⬇️ SAVE PATH ⬇️**\n",
        "save_path = '' #@param {type: \"string\"}\n",
        "!wget -P {save_path} {download_link}"
      ],
      "metadata": {
        "id": "PHttOMLPIXBP",
        "cellView": "form"
      },
      "execution_count": null,
      "outputs": []
    },
    {
      "cell_type": "markdown",
      "source": [
        "### **axel Downloader ⏬**"
      ],
      "metadata": {
        "id": "1g1vTvNnq0NA"
      }
    },
    {
      "cell_type": "code",
      "source": [
        "#@markdown **<h4><center>✅ RUN THIS CODE TO INSTALL THE DEPENDENCIES ✅**\n",
        "!apt-get update && apt-get install -y axel"
      ],
      "metadata": {
        "id": "KoOyhUhKLdSz",
        "cellView": "form"
      },
      "execution_count": null,
      "outputs": []
    },
    {
      "cell_type": "code",
      "source": [
        "#@markdown **<center>⬇️ PASTE DOWNLOAD LINK HERE ⬇️**\n",
        "download_link = '' #@param {type: \"string\"}\n",
        "\n",
        "#@markdown **<center>⬇️ SAVE PATH ⬇️**\n",
        "save_path = '' #@param {type: \"string\"}\n",
        "\n",
        "#@markdown **<center>❓ HOW MANY THREAD YOU WANT TO USE ❓**\n",
        "thread = \"16\" #@param [\"2\", \"4\", \"8\", \"16\"]\n",
        "thread_num = int(thread)\n",
        "!axel -n {thread_num} {download_link} -o save_path"
      ],
      "metadata": {
        "id": "KNm8aiP1LWi6",
        "cellView": "form"
      },
      "execution_count": null,
      "outputs": []
    },
    {
      "cell_type": "markdown",
      "source": [
        "### **aria2 Downloader ⏬**"
      ],
      "metadata": {
        "id": "iLzP-maVq4kB"
      }
    },
    {
      "cell_type": "code",
      "source": [
        "#@markdown **<h4><center>✅ RUN THIS CODE TO INSTALL THE DEPENDENCIES ✅**\n",
        "\n",
        "!apt-get update\n",
        "!apt-get install aria2"
      ],
      "metadata": {
        "id": "LNeAcGOzNX3q",
        "cellView": "form"
      },
      "execution_count": null,
      "outputs": []
    },
    {
      "cell_type": "code",
      "source": [
        "#@markdown **<center>⬇️ PASTE DOWNLOAD LINK HERE ⬇️**\n",
        "download_link = \"\" #@param {type: \"string\"}\n",
        "\n",
        "#@markdown **<center>⬇️ SAVE PATH ⬇️**\n",
        "save_path = \"\" #@param {type: \"string\"}\n",
        "\n",
        "#@markdown **<center>❓ HOW MANY THREAD YOU WANT TO USE ❓**\n",
        "thread = \"16\" #@param [\"2\", \"4\", \"8\", \"16\"]\n",
        "thread_num = int(thread)\n",
        "\n",
        "!aria2c -x {thread_num} {download_link} --dir={save_path}"
      ],
      "metadata": {
        "id": "xcD_YC_kNi5D",
        "cellView": "form"
      },
      "execution_count": null,
      "outputs": []
    }
  ]
}