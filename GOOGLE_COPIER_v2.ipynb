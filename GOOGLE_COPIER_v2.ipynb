{
  "nbformat": 4,
  "nbformat_minor": 0,
  "metadata": {
    "colab": {
      "provenance": []
    },
    "kernelspec": {
      "name": "python3",
      "display_name": "Python 3"
    },
    "language_info": {
      "name": "python"
    }
  },
  "cells": [
    {
      "cell_type": "markdown",
      "source": [
        "**<h1><center>GOOGLE FILES COPIER v2 - 👑 SYEDLORD 👑</center></h1>**"
      ],
      "metadata": {
        "id": "tW5E4IHSrTQd"
      }
    },
    {
      "cell_type": "code",
      "metadata": {
        "id": "tPuLCnbGFmxo",
        "cellView": "form"
      },
      "source": [
        "#@markdown <br><center><img src='https://upload.wikimedia.org/wikipedia/commons/thumb/d/da/Google_Drive_logo.png/600px-Google_Drive_logo.png' height=\"50\" alt=\"Gdrive-logo\"/></center>\n",
        "#@markdown <center><h3>Mount Gdrive to /content/drive</h3></center><br>\n",
        "MODE = \"MOUNT\" #@param [\"MOUNT\", \"UNMOUNT\"]\n",
        "#Mount your Gdrive! \n",
        "from google.colab import drive\n",
        "drive.mount._DEBUG = False\n",
        "if MODE == \"MOUNT\":\n",
        "  drive.mount('/content/drive', force_remount=True)\n",
        "elif MODE == \"UNMOUNT\":\n",
        "  try:\n",
        "    drive.flush_and_unmount()\n",
        "  except ValueError:\n",
        "    pass\n",
        "  get_ipython().system_raw(\"rm -rf /root/.config/Google/DriveFS\")"
      ],
      "execution_count": null,
      "outputs": []
    },
    {
      "cell_type": "markdown",
      "source": [
        "### **<h2>GOOGLE TO GOOGLE COPY** <img src=\"https://www.freepnglogos.com/download/9808\" alt=\"Description of the image\" width=\"50\">\n"
      ],
      "metadata": {
        "id": "27L9LC7ewuoO"
      }
    },
    {
      "cell_type": "code",
      "source": [
        "#@markdown **<h4>⬇️ RUN THIS CODE TO INSTALL THE REQUIRED DEPENDENCIES ⬇️</h4>**\n",
        "!pip install gdown"
      ],
      "metadata": {
        "id": "zyQuM5VO7Gs8",
        "cellView": "form"
      },
      "execution_count": null,
      "outputs": []
    },
    {
      "cell_type": "code",
      "source": [
        "#@markdown **<h3><center>✅ RUN THIS CELL TO INPUT LINKS ✅**\n",
        "#@markdown <h4> You'll need to input list of Google Links IDs and type \"stop\" when you are done\n",
        "file_id = []\n",
        "\n",
        "while True:\n",
        "    # Prompt the user to enter a URL as a string\n",
        "    links = input(\"Enter a URL (or type 'stop' to quit): \")\n",
        "    \n",
        "    # If the user types 'stop', exit the loop\n",
        "    if links == 'stop':\n",
        "        break\n",
        "    \n",
        "    # Otherwise, append the URL to the links list\n",
        "    file_id.append(links)"
      ],
      "metadata": {
        "id": "BG3j7iV24XDE",
        "cellView": "form"
      },
      "execution_count": null,
      "outputs": []
    },
    {
      "cell_type": "code",
      "source": [
        "#@markdown **<h4><center>⬇️ RUN THE CODE TO START THE PROCESS ⬇️</h4>**\n",
        "import gdown\n",
        "\n",
        "output = 'PASTE THE DOWNLOAD DIRECTORY HERE' #@param {type: \"string\"}\n",
        "output += '/'\n",
        "\n",
        "file_idNum = 0\n",
        "for i in range(len(file_id)):\n",
        "    url = 'https://drive.google.com/uc?id=' + file_id[file_idNum]\n",
        "    file_idNum += 1\n",
        "    gdown.download(url, output, quiet=False)"
      ],
      "metadata": {
        "id": "TBYXC-0t1zrz",
        "cellView": "form"
      },
      "execution_count": null,
      "outputs": []
    },
    {
      "cell_type": "markdown",
      "source": [
        "### **GOOGLE TO ANY COPY**"
      ],
      "metadata": {
        "id": "Yp5fHgWpw6Lu"
      }
    },
    {
      "cell_type": "code",
      "source": [
        "#@markdown **<h3>⬇️ RUN THIS CODE TO INSTALL RSYNC DEPENDENCIES ⬇️**\n",
        "!apt-get install rsync"
      ],
      "metadata": {
        "cellView": "form",
        "id": "S-EQXdLnw_nh"
      },
      "execution_count": null,
      "outputs": []
    },
    {
      "cell_type": "code",
      "source": [
        "#@markdown **<h3><center>✅ INPUT COPY AND PASTE DESTINATION ✅**\n",
        "copy_directory = \"⬇️ PASTE THE COPY DIRECTORY HERE ⬇️\" #@param {type: \"string\"}\n",
        "paste_directory = \"⬇️ PASTE THE PASTE DIRECTORY HERE: ⬇️\" #@param {type: \"string\"}\n",
        "paste_directory += '/'\n",
        "\n",
        "!rsync -avz {copy_directory} {paste_directory}"
      ],
      "metadata": {
        "cellView": "form",
        "id": "vsSTJ0I3xIFu"
      },
      "execution_count": null,
      "outputs": []
    }
  ]
}