{
  "nbformat": 4,
  "nbformat_minor": 0,
  "metadata": {
    "colab": {
      "provenance": []
    },
    "kernelspec": {
      "name": "python3",
      "display_name": "Python 3"
    },
    "language_info": {
      "name": "python"
    }
  },
  "cells": [
    {
      "cell_type": "markdown",
      "source": [
        "created by:**<h1>👑 SyedLord 👑</h1>**"
      ],
      "metadata": {
        "id": "3T-no753sWas"
      }
    },
    {
      "cell_type": "markdown",
      "source": [
        "# **<center>⏬ DOWNLOADERS ⏬**"
      ],
      "metadata": {
        "id": "9n-YnybMriw8"
      }
    },
    {
      "cell_type": "markdown",
      "source": [
        "### **curl Downloader ⏬**"
      ],
      "metadata": {
        "id": "e1WcNvrKqOFm"
      }
    },
    {
      "cell_type": "code",
      "source": [
        "from os import chdir\n",
        "chdir(\"DOWNLOAD DIRECTORY HERE\")"
      ],
      "metadata": {
        "id": "9U09TownKP49"
      },
      "execution_count": null,
      "outputs": []
    },
    {
      "cell_type": "code",
      "source": [
        "!\"DOWNLOAD LINK\""
      ],
      "metadata": {
        "id": "Z1lx_51YKRUv"
      },
      "execution_count": null,
      "outputs": []
    },
    {
      "cell_type": "markdown",
      "source": [
        "### **wget Downloader ⏬**"
      ],
      "metadata": {
        "id": "5YKUelHzquxp"
      }
    },
    {
      "cell_type": "code",
      "execution_count": null,
      "metadata": {
        "id": "FZHvHFydGhN-"
      },
      "outputs": [],
      "source": [
        "!pip install PyDrive"
      ]
    },
    {
      "cell_type": "code",
      "source": [
        "!wget -P 'DOWNLOAD DIRECTORY HERE' [PASTE DOWNLOAD LINK HERE]"
      ],
      "metadata": {
        "id": "PHttOMLPIXBP"
      },
      "execution_count": null,
      "outputs": []
    },
    {
      "cell_type": "markdown",
      "source": [
        "### **axel Downloader ⏬**"
      ],
      "metadata": {
        "id": "1g1vTvNnq0NA"
      }
    },
    {
      "cell_type": "code",
      "source": [
        "!apt-get update && apt-get install -y axel"
      ],
      "metadata": {
        "id": "KoOyhUhKLdSz"
      },
      "execution_count": null,
      "outputs": []
    },
    {
      "cell_type": "code",
      "source": [
        "!axel -n 16 \"DOWNLOAD LINK HERE\" -o \"DOWNLOAD DIRECTORY HERE\""
      ],
      "metadata": {
        "id": "KNm8aiP1LWi6"
      },
      "execution_count": null,
      "outputs": []
    },
    {
      "cell_type": "markdown",
      "source": [
        "### **aria2 Downloader ⏬**"
      ],
      "metadata": {
        "id": "iLzP-maVq4kB"
      }
    },
    {
      "cell_type": "code",
      "source": [
        "!apt-get update\n",
        "!apt-get install aria2"
      ],
      "metadata": {
        "id": "LNeAcGOzNX3q"
      },
      "execution_count": null,
      "outputs": []
    },
    {
      "cell_type": "code",
      "source": [
        "!aria2c -x16 \"DOWNLOAD LINK HERE\" --dir=\"DOWNLOAD DIRECTORY HERE\""
      ],
      "metadata": {
        "id": "xcD_YC_kNi5D"
      },
      "execution_count": null,
      "outputs": []
    }
  ]
}